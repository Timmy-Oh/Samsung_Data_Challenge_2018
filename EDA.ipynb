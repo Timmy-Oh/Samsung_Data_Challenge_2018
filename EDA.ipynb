{
 "cells": [
  {
   "cell_type": "code",
   "execution_count": 71,
   "metadata": {},
   "outputs": [],
   "source": [
    "import pandas as pd\n",
    "import numpy as np\n",
    "import pickle as pkl\n",
    "\n",
    "import config"
   ]
  },
  {
   "cell_type": "code",
   "execution_count": 72,
   "metadata": {},
   "outputs": [],
   "source": [
    "df_test = pd.read_csv('./data/test_kor.csv', encoding='cp949')\n",
    "\n",
    "df_result = pd.read_csv('./data/result_kor.csv', encoding='cp949')\n",
    "\n",
    "df_train = pd.read_csv('./data/dataset_kor/교통사망사고정보/Kor_Train_교통사망사고정보(12.1~17.6).csv', engine='python')\n",
    "\n",
    "result_list = []\n",
    "for r, c in zip(df_result.열, df_result.행):\n",
    "#     print(r,c, end='\\t// ')\n",
    "#     print((r-2), (config.col_dict[c]), end='\\t// ')\n",
    "#     print(df_test.iloc[r-2][config.col_dict[c]])\n",
    "    result_list.append(df_test.iloc[r-2][config.col_dict[c]])\n",
    "    \n",
    "df_result.값 = result_list\n",
    "\n",
    "df_result.head()"
   ]
  },
  {
   "cell_type": "code",
   "execution_count": null,
   "metadata": {},
   "outputs": [],
   "source": []
  }
 ],
 "metadata": {
  "kernelspec": {
   "display_name": "Python 3",
   "language": "python",
   "name": "python3"
  },
  "language_info": {
   "codemirror_mode": {
    "name": "ipython",
    "version": 3
   },
   "file_extension": ".py",
   "mimetype": "text/x-python",
   "name": "python",
   "nbconvert_exporter": "python",
   "pygments_lexer": "ipython3",
   "version": "3.6.4"
  }
 },
 "nbformat": 4,
 "nbformat_minor": 2
}
