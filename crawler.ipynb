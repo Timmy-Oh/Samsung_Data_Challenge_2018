{
 "cells": [
  {
   "cell_type": "code",
   "execution_count": 9,
   "metadata": {},
   "outputs": [],
   "source": [
    "from bs4 import BeautifulSoup\n",
    "import requests\n",
    "import pandas as pd\n",
    "import numpy as np\n",
    "import json"
   ]
  },
  {
   "cell_type": "code",
   "execution_count": 50,
   "metadata": {},
   "outputs": [],
   "source": [
    "service_key = 'DfPLESYtk8sfO7pAt50dWQgey2DpCUEHgYlsKiZv1S2jfLdY5R3YBY4sIMCv4cGFSBzHpG%2F2tl63pGCvP6OR7Q%3D%3D'"
   ]
  },
  {
   "cell_type": "code",
   "execution_count": 84,
   "metadata": {},
   "outputs": [
    {
     "data": {
      "text/plain": [
       "'http://apis.data.go.kr/B552061/trafficAccidentDeath/getRestTrafficAccidentDeath?servicekey=DfPLESYtk8sfO7pAt50dWQgey2DpCUEHgYlsKiZv1S2jfLdY5R3YBY4sIMCv4cGFSBzHpG%2F2tl63pGCvP6OR7Q%3D%3D&searchYear=2017&siDo=1100&guGun='"
      ]
     },
     "execution_count": 84,
     "metadata": {},
     "output_type": "execute_result"
    }
   ],
   "source": [
    "url = 'http://apis.data.go.kr/B552061/trafficAccidentDeath/getRestTrafficAccidentDeath?servicekey={}&searchYear=2017&siDo=1100&guGun='.format(service_key)\n",
    "url"
   ]
  },
  {
   "cell_type": "code",
   "execution_count": 85,
   "metadata": {},
   "outputs": [
    {
     "data": {
      "text/plain": [
       "<Response [200]>"
      ]
     },
     "execution_count": 85,
     "metadata": {},
     "output_type": "execute_result"
    }
   ],
   "source": [
    "req=requests.get(url)\n",
    "req"
   ]
  },
  {
   "cell_type": "code",
   "execution_count": null,
   "metadata": {},
   "outputs": [],
   "source": [
    "req."
   ]
  },
  {
   "cell_type": "code",
   "execution_count": 97,
   "metadata": {},
   "outputs": [],
   "source": [
    "html=req.text"
   ]
  },
  {
   "cell_type": "code",
   "execution_count": 98,
   "metadata": {},
   "outputs": [],
   "source": [
    "jdic = json.loads(html)"
   ]
  },
  {
   "cell_type": "code",
   "execution_count": 116,
   "metadata": {},
   "outputs": [],
   "source": [
    "import re"
   ]
  },
  {
   "cell_type": "code",
   "execution_count": 143,
   "metadata": {},
   "outputs": [],
   "source": [
    "cols = d.keys()"
   ]
  },
  {
   "cell_type": "code",
   "execution_count": 129,
   "metadata": {},
   "outputs": [
    {
     "data": {
      "text/plain": [
       "dict_keys(['year', 'dt_006', 'dt_006_lv8', 'cd_008', 'cd_007', 'no_010', 'injpsn_co', 'no_011', 'no_012', 'no_013', 'cd_003', 'cd_003_lv1', 'cd_014_lv1', 'cd_014_lv2', 'cd_014', 'cd_027_1_lv1', 'cd_027_1_lv2', 'cd_043_lv1', 'cd_043', 'cd_036_1_lv1', 'cd_036_1', 'cd_036_1_lv2', 'cd_036_2', 'x_coord', 'y_coord', 'grd_lo', 'grd_la'])"
      ]
     },
     "execution_count": 129,
     "metadata": {},
     "output_type": "execute_result"
    }
   ],
   "source": [
    "cols"
   ]
  },
  {
   "cell_type": "code",
   "execution_count": 135,
   "metadata": {},
   "outputs": [],
   "source": [
    "rows = []\n",
    "for i, d in enumerate(jdic['searchResult']['accidentDeath']):\n",
    "    if len(re.findall('201707.+', d['dt_006'])) > 0:\n",
    "        row = []\n",
    "        for c in cols:\n",
    "            row.append(d[c])\n",
    "        rows.append(row)\n"
   ]
  },
  {
   "cell_type": "code",
   "execution_count": 155,
   "metadata": {},
   "outputs": [],
   "source": [
    "cols = ['year', '발생월일', '발생시간', '주야코드', '사고요일', '사망지수', '부상자수', '중상자수', '경상자수', '부상신고자수', '발생지시군구', '발생지시도','사고유형대분류', '사고유형중분류',\n",
    "        '사고유형', '법규위반1당대분류', '법규위반1당중분류', '도로형태대분류', '도로형태', '당사자종별1당대분류', '당사자분류', '당중분류', '당당중분류', 'X좌표', 'Y좌표', '경도' ,'위도']"
   ]
  },
  {
   "cell_type": "code",
   "execution_count": null,
   "metadata": {},
   "outputs": [],
   "source": [
    "cols = ['year', '발생월일', '발생시간', '주야코드', '사고요일', '사망지수', '부상자수', '중상자수', '경상자수', '부상신고자수', '발생지시군구', '발생지시도','사고유형대분류', '사고유형중분류',\n",
    "        '법규위반1당대분류', '법규위반1당중분류', '도로형태대분류', '도로형태', '당사자종별1당대분류', '당사자분류', '당중분류', '당당중분류', 'X좌표', 'Y좌표', '경도' ,'위도']"
   ]
  },
  {
   "cell_type": "code",
   "execution_count": 156,
   "metadata": {},
   "outputs": [],
   "source": [
    "test_df = pd.DataFrame(data=rows, columns=cols)"
   ]
  },
  {
   "cell_type": "code",
   "execution_count": 161,
   "metadata": {},
   "outputs": [],
   "source": [
    "fri_idx = test_df['사고요일'] == '6'"
   ]
  },
  {
   "cell_type": "code",
   "execution_count": 162,
   "metadata": {},
   "outputs": [],
   "source": [
    "night_idx = test_df['주야코드'] == '2'"
   ]
  },
  {
   "cell_type": "code",
   "execution_count": 164,
   "metadata": {},
   "outputs": [
    {
     "data": {
      "text/html": [
       "<div>\n",
       "<style scoped>\n",
       "    .dataframe tbody tr th:only-of-type {\n",
       "        vertical-align: middle;\n",
       "    }\n",
       "\n",
       "    .dataframe tbody tr th {\n",
       "        vertical-align: top;\n",
       "    }\n",
       "\n",
       "    .dataframe thead th {\n",
       "        text-align: right;\n",
       "    }\n",
       "</style>\n",
       "<table border=\"1\" class=\"dataframe\">\n",
       "  <thead>\n",
       "    <tr style=\"text-align: right;\">\n",
       "      <th></th>\n",
       "      <th>year</th>\n",
       "      <th>발생월일</th>\n",
       "      <th>발생시간</th>\n",
       "      <th>주야코드</th>\n",
       "      <th>사고요일</th>\n",
       "      <th>사망지수</th>\n",
       "      <th>부상자수</th>\n",
       "      <th>중상자수</th>\n",
       "      <th>경상자수</th>\n",
       "      <th>부상신고자수</th>\n",
       "      <th>...</th>\n",
       "      <th>도로형태대분류</th>\n",
       "      <th>도로형태</th>\n",
       "      <th>당사자종별1당대분류</th>\n",
       "      <th>당사자분류</th>\n",
       "      <th>당중분류</th>\n",
       "      <th>당당중분류</th>\n",
       "      <th>X좌표</th>\n",
       "      <th>Y좌표</th>\n",
       "      <th>경도</th>\n",
       "      <th>위도</th>\n",
       "    </tr>\n",
       "  </thead>\n",
       "  <tbody>\n",
       "    <tr>\n",
       "      <th>0</th>\n",
       "      <td>2017</td>\n",
       "      <td>2017072804</td>\n",
       "      <td>28</td>\n",
       "      <td>2</td>\n",
       "      <td>6</td>\n",
       "      <td>1</td>\n",
       "      <td>1</td>\n",
       "      <td>0</td>\n",
       "      <td>0</td>\n",
       "      <td>0</td>\n",
       "      <td>...</td>\n",
       "      <td>01</td>\n",
       "      <td>05</td>\n",
       "      <td>01</td>\n",
       "      <td>01</td>\n",
       "      <td>08</td>\n",
       "      <td>08</td>\n",
       "      <td>961568</td>\n",
       "      <td>1952419</td>\n",
       "      <td>127.06479256</td>\n",
       "      <td>37.57033935</td>\n",
       "    </tr>\n",
       "    <tr>\n",
       "      <th>2</th>\n",
       "      <td>2017</td>\n",
       "      <td>2017071422</td>\n",
       "      <td>25</td>\n",
       "      <td>2</td>\n",
       "      <td>6</td>\n",
       "      <td>1</td>\n",
       "      <td>1</td>\n",
       "      <td>0</td>\n",
       "      <td>0</td>\n",
       "      <td>0</td>\n",
       "      <td>...</td>\n",
       "      <td>01</td>\n",
       "      <td>05</td>\n",
       "      <td>01</td>\n",
       "      <td>01</td>\n",
       "      <td>12</td>\n",
       "      <td>12</td>\n",
       "      <td>966461</td>\n",
       "      <td>1949442</td>\n",
       "      <td>127.12033631</td>\n",
       "      <td>37.54369777</td>\n",
       "    </tr>\n",
       "    <tr>\n",
       "      <th>9</th>\n",
       "      <td>2017</td>\n",
       "      <td>2017071422</td>\n",
       "      <td>45</td>\n",
       "      <td>2</td>\n",
       "      <td>6</td>\n",
       "      <td>1</td>\n",
       "      <td>1</td>\n",
       "      <td>0</td>\n",
       "      <td>0</td>\n",
       "      <td>0</td>\n",
       "      <td>...</td>\n",
       "      <td>01</td>\n",
       "      <td>02</td>\n",
       "      <td>05</td>\n",
       "      <td>05</td>\n",
       "      <td>01</td>\n",
       "      <td>01</td>\n",
       "      <td>950984</td>\n",
       "      <td>1947652</td>\n",
       "      <td>126.9452615</td>\n",
       "      <td>37.52687091</td>\n",
       "    </tr>\n",
       "  </tbody>\n",
       "</table>\n",
       "<p>3 rows × 27 columns</p>\n",
       "</div>"
      ],
      "text/plain": [
       "   year        발생월일 발생시간 주야코드 사고요일  사망지수  부상자수  중상자수  경상자수  부상신고자수  \\\n",
       "0  2017  2017072804   28    2    6     1     1     0     0       0   \n",
       "2  2017  2017071422   25    2    6     1     1     0     0       0   \n",
       "9  2017  2017071422   45    2    6     1     1     0     0       0   \n",
       "\n",
       "      ...      도로형태대분류 도로형태 당사자종별1당대분류 당사자분류 당중분류 당당중분류       X좌표       Y좌표  \\\n",
       "0     ...           01   05         01    01   08    08  961568    1952419    \n",
       "2     ...           01   05         01    01   12    12  966461    1949442    \n",
       "9     ...           01   02         05    05   01    01  950984    1947652    \n",
       "\n",
       "             경도           위도  \n",
       "0  127.06479256  37.57033935  \n",
       "2  127.12033631  37.54369777  \n",
       "9   126.9452615  37.52687091  \n",
       "\n",
       "[3 rows x 27 columns]"
      ]
     },
     "execution_count": 164,
     "metadata": {},
     "output_type": "execute_result"
    }
   ],
   "source": [
    "test_df[fri_idx & night_idx]"
   ]
  },
  {
   "cell_type": "code",
   "execution_count": null,
   "metadata": {},
   "outputs": [],
   "source": []
  }
 ],
 "metadata": {
  "kernelspec": {
   "display_name": "Python 3",
   "language": "python",
   "name": "python3"
  },
  "language_info": {
   "codemirror_mode": {
    "name": "ipython",
    "version": 3
   },
   "file_extension": ".py",
   "mimetype": "text/x-python",
   "name": "python",
   "nbconvert_exporter": "python",
   "pygments_lexer": "ipython3",
   "version": "3.6.4"
  }
 },
 "nbformat": 4,
 "nbformat_minor": 2
}
